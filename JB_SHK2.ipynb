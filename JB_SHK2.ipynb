{
 "cells": [
  {
   "cell_type": "markdown",
   "metadata": {
    "id": "ijKuT5CnoOaY"
   },
   "source": [
    "# Описание\n",
    "В настоящее время количество выходящих в течение года научных публикаций велико и растёт экспоненциально во многих областях, в связи с чем открывается простор для создания автоматических инструментов, помогающих в поиске и обработке информации. В частности, веб-сервис [PubTrends](https://pubtrends.net/) позволяет взглянуть на множество статей, соответствующих поисковому запросу, как на единое целое, выделяя подразделы научных направлений, динамику их развития и тем самым структурируя результаты выдачи.\n",
    "В рамках текущего проекта предлагается добавить в список возможностей сервиса извлечение численных показателей, а также визуализацию результатов и возможность фильтрации статей на основе извлеченных значений. Такая функциональность может быть полезна, например, в биомедицинской литературе для поиска статей с большим количеством испытуемых, а в технической - для получения представления о получаемых значений целевой метрики в рамках различных задач.\n",
    "Для извлечения численных показателей из текста уже существуют инструменты, такие как [grobid-quantities](https://grobid-quantities.readthedocs.io/en/latest/) или [marve](https://arxiv.org/pdf/1710.04312.pdf). Фокус этой практики будет обращен именно на агрегацию информации из множества статей и использование этой информации для фильтрации статей. Первоначально разработка будет вестись в рамках Jupyter Notebook, при успешном выполнении задач планируется интеграция модуля в существующий веб-сервис."
   ]
  },
  {
   "cell_type": "markdown",
   "metadata": {
    "id": "YDoFSoL8osNK"
   },
   "source": [
    "*Почему вам интересен этот проект?*\n",
    "\n",
    "В моей научной деятельности, которая завязана на эксперименте и моделировании, численные величины часто определяют суть работы. Например, эксперименты при разных температурах (от комнатной до гелиевой) могут кардинально отличаться по используемым методам и применяемым моделям. Такая информация не всегда явно выделяется словесным описанием, и было бы удобно иметь инструмент для её извлечения и классификации работ по некоторым численным показателям. Вопросы к цифрам в публикациях коллег по области возникают достаточно часто в моей работе, поэтому мне было бы крайне интересно принять участие в таком проекте, довести его до реализации и в перспективе пользоваться таким инструментом.\n"
   ]
  },
  {
   "cell_type": "markdown",
   "metadata": {
    "id": "_WtY2fzUo0pI"
   },
   "source": [
    "#Задача 1\n",
    "Задачи\n",
    "\n",
    "Установить [grobid-quantities](https://grobid-quantities.readthedocs.io/en/latest/)\n",
    "\n",
    "Скачать CSV файл с информацией о статьях по [ссылке](https://drive.google.com/file/d/1d3NJbq7EInZYl8Q5Pb7YfAwQUVxZ9FdE/view?usp=sharing).\n",
    "Загрузить данные из CSV. Файл содержит две колонки: PMID (идентификатор статьи в базе Pubmed) и abstract (текст аннотации).\n",
    "\n",
    "Используя REST API запущенного локально сервиса grobid-quantities, извлечь все численные показатели из аннотаций статей. В рамках этого задания достаточно поддержать только тип значений value (см. [документацию](https://grobid-quantities.readthedocs.io/en/latest/restAPI.html#response-description) grobid-quantities).\n",
    "\n",
    "Построить гистограмму извлеченных значений, относящихся к слову ‘accuracy’ в текстах аннотаций."
   ]
  },
  {
   "cell_type": "code",
   "execution_count": 1,
   "metadata": {
    "id": "swnPkX7Vsmcv",
    "scrolled": true
   },
   "outputs": [
    {
     "name": "stdout",
     "output_type": "stream",
     "text": [
      "Collecting grobid-quantities-client\n",
      "  Downloading grobid-quantities-client-0.2.1.tar.gz (6.0 kB)\n",
      "Collecting pandas\n",
      "  Downloading pandas-1.4.1-cp38-cp38-manylinux_2_17_x86_64.manylinux2014_x86_64.whl (11.7 MB)\n",
      "\u001b[K     |████████████████████████████████| 11.7 MB 2.5 MB/s eta 0:00:01\n",
      "\u001b[?25hCollecting numpy\n",
      "  Downloading numpy-1.22.2-cp38-cp38-manylinux_2_17_x86_64.manylinux2014_x86_64.whl (16.8 MB)\n",
      "\u001b[K     |████████████████████████████████| 16.8 MB 186 kB/s eta 0:00:01\n",
      "\u001b[?25hRequirement already satisfied: requests in /usr/lib/python3/dist-packages (from grobid-quantities-client->-r requirements.txt (line 2)) (2.22.0)\n",
      "Collecting zenlog\n",
      "  Downloading zenlog-1.1.tar.gz (1.7 kB)\n",
      "Collecting pytz>=2020.1\n",
      "  Downloading pytz-2021.3-py2.py3-none-any.whl (503 kB)\n",
      "\u001b[K     |████████████████████████████████| 503 kB 2.3 MB/s eta 0:00:01\n",
      "\u001b[?25hCollecting python-dateutil>=2.8.1\n",
      "  Downloading python_dateutil-2.8.2-py2.py3-none-any.whl (247 kB)\n",
      "\u001b[K     |████████████████████████████████| 247 kB 2.9 MB/s eta 0:00:01\n",
      "\u001b[?25hCollecting colorlog\n",
      "  Downloading colorlog-6.6.0-py2.py3-none-any.whl (11 kB)\n",
      "Requirement already satisfied: six>=1.5 in /usr/lib/python3/dist-packages (from python-dateutil>=2.8.1->pandas->-r requirements.txt (line 3)) (1.14.0)\n",
      "Building wheels for collected packages: grobid-quantities-client, zenlog\n",
      "  Building wheel for grobid-quantities-client (setup.py) ... \u001b[?25ldone\n",
      "\u001b[?25h  Created wheel for grobid-quantities-client: filename=grobid_quantities_client-0.2.1-py3-none-any.whl size=6870 sha256=f2ab3dd37b8b434d80e35cfdd14c8d4be1356bcd5a2ddb0d5e1c86f297abbb2a\n",
      "  Stored in directory: /home/oduwancheekee/.cache/pip/wheels/c9/ba/18/2ba25df32218144afbe360dbb7068e488eca093f07ce3e7687\n",
      "  Building wheel for zenlog (setup.py) ... \u001b[?25ldone\n",
      "\u001b[?25h  Created wheel for zenlog: filename=zenlog-1.1-py3-none-any.whl size=2357 sha256=05b69182b06c31b09ccaf1150e8d0915afe957d5b82f3343f6e37de02fa65133\n",
      "  Stored in directory: /home/oduwancheekee/.cache/pip/wheels/3a/fc/06/20fc224824dd6ee18498855665cb85555be8527bbccd0b607f\n",
      "Successfully built grobid-quantities-client zenlog\n",
      "Installing collected packages: colorlog, zenlog, grobid-quantities-client, pytz, python-dateutil, numpy, pandas\n",
      "Successfully installed colorlog-6.6.0 grobid-quantities-client-0.2.1 numpy-1.22.2 pandas-1.4.1 python-dateutil-2.8.2 pytz-2021.3 zenlog-1.1\n"
     ]
    }
   ],
   "source": [
    "# %cd /content/drive/MyDrive/CSC/2022_spring_internship/JB_SHK2\n",
    "!pip install -r requirements.txt "
   ]
  },
  {
   "cell_type": "code",
   "execution_count": null,
   "metadata": {
    "id": "ZM64IS6SoENb"
   },
   "outputs": [],
   "source": [
    "import grobid_quantities.quantities \n",
    "import pandas as pd\n",
    "import numpy as np\n",
    "import matplotlib.pyplot as plt\n",
    "\n",
    "df_orig = pd.read_csv('2022_JBR_Spring_Internship_Test_Data.csv')\n",
    "df_orig.loc[437, 'abstract'] = ''.join([\n",
    "    'The average classification accuracy was 67.9% and 75.7% for covert and overt speech, ',\n",
    "    'respectively; this was 5-10 % lower than the movement classification. The performance ',\n",
    "    'of the combined movement-speech decoder was 61.9% and 67.7% (covert and overt), ',\n",
    "    'but it is possible to have more classes available for control.'\n",
    "]) # row 437 has broken markdown and fixed by the easiest way - manually \n",
    "\n",
    "server_url = 'http://localhost:8060/service/'\n",
    "\n",
    "from grobid_quantities.quantities import QuantitiesClient\n",
    "client = QuantitiesClient(apiBase=server_url)"
   ]
  },
  {
   "cell_type": "markdown",
   "metadata": {},
   "source": [
    "Skim through csv table suggests that all accurancies are represented in percents, so as a naive approach, let's extract percentages and check if words accuracy/accuracies are present in an abstract. Then we regard these occurences as accuracies and plot histogram."
   ]
  },
  {
   "cell_type": "code",
   "execution_count": 409,
   "metadata": {
    "scrolled": true
   },
   "outputs": [
    {
     "data": {
      "text/html": [
       "<div>\n",
       "<style scoped>\n",
       "    .dataframe tbody tr th:only-of-type {\n",
       "        vertical-align: middle;\n",
       "    }\n",
       "\n",
       "    .dataframe tbody tr th {\n",
       "        vertical-align: top;\n",
       "    }\n",
       "\n",
       "    .dataframe thead th {\n",
       "        text-align: right;\n",
       "    }\n",
       "</style>\n",
       "<table border=\"1\" class=\"dataframe\">\n",
       "  <thead>\n",
       "    <tr style=\"text-align: right;\">\n",
       "      <th></th>\n",
       "      <th>PMID</th>\n",
       "      <th>abstract</th>\n",
       "      <th>accuracy</th>\n",
       "      <th>percentage</th>\n",
       "    </tr>\n",
       "  </thead>\n",
       "  <tbody>\n",
       "    <tr>\n",
       "      <th>0</th>\n",
       "      <td>35103873</td>\n",
       "      <td>It has been a challenge for solving the motor ...</td>\n",
       "      <td>True</td>\n",
       "      <td>[]</td>\n",
       "    </tr>\n",
       "    <tr>\n",
       "      <th>1</th>\n",
       "      <td>35095410</td>\n",
       "      <td>The development of reliable assistive devices ...</td>\n",
       "      <td>False</td>\n",
       "      <td>[]</td>\n",
       "    </tr>\n",
       "    <tr>\n",
       "      <th>2</th>\n",
       "      <td>35093844</td>\n",
       "      <td>Identifying motor and mental imagery electroen...</td>\n",
       "      <td>True</td>\n",
       "      <td>[0.9952]</td>\n",
       "    </tr>\n",
       "    <tr>\n",
       "      <th>3</th>\n",
       "      <td>35090904</td>\n",
       "      <td>Brain computer interface (BCI) utilizes brain ...</td>\n",
       "      <td>True</td>\n",
       "      <td>[0.7181, 0.8314]</td>\n",
       "    </tr>\n",
       "    <tr>\n",
       "      <th>4</th>\n",
       "      <td>35088740</td>\n",
       "      <td>Brain-computer interface (BCI)-controlled func...</td>\n",
       "      <td>False</td>\n",
       "      <td>[]</td>\n",
       "    </tr>\n",
       "    <tr>\n",
       "      <th>...</th>\n",
       "      <td>...</td>\n",
       "      <td>...</td>\n",
       "      <td>...</td>\n",
       "      <td>...</td>\n",
       "    </tr>\n",
       "    <tr>\n",
       "      <th>1424</th>\n",
       "      <td>11482363</td>\n",
       "      <td>The electroencephalogram (EEG) is modified by ...</td>\n",
       "      <td>True</td>\n",
       "      <td>[]</td>\n",
       "    </tr>\n",
       "    <tr>\n",
       "      <th>1425</th>\n",
       "      <td>11204035</td>\n",
       "      <td>Electroencephalogram (EEG) recordings during r...</td>\n",
       "      <td>True</td>\n",
       "      <td>[0.14]</td>\n",
       "    </tr>\n",
       "    <tr>\n",
       "      <th>1426</th>\n",
       "      <td>10896191</td>\n",
       "      <td>We present an overview of our research into br...</td>\n",
       "      <td>False</td>\n",
       "      <td>[]</td>\n",
       "    </tr>\n",
       "    <tr>\n",
       "      <th>1427</th>\n",
       "      <td>10478710</td>\n",
       "      <td>EEG feedback studies demonstrate that human su...</td>\n",
       "      <td>True</td>\n",
       "      <td>[0.85]</td>\n",
       "    </tr>\n",
       "    <tr>\n",
       "      <th>1428</th>\n",
       "      <td>9749909</td>\n",
       "      <td>Electroencephalogram (EEG) recordings during r...</td>\n",
       "      <td>False</td>\n",
       "      <td>[0.328]</td>\n",
       "    </tr>\n",
       "  </tbody>\n",
       "</table>\n",
       "<p>1429 rows × 4 columns</p>\n",
       "</div>"
      ],
      "text/plain": [
       "          PMID                                           abstract  accuracy  \\\n",
       "0     35103873  It has been a challenge for solving the motor ...      True   \n",
       "1     35095410  The development of reliable assistive devices ...     False   \n",
       "2     35093844  Identifying motor and mental imagery electroen...      True   \n",
       "3     35090904  Brain computer interface (BCI) utilizes brain ...      True   \n",
       "4     35088740  Brain-computer interface (BCI)-controlled func...     False   \n",
       "...        ...                                                ...       ...   \n",
       "1424  11482363  The electroencephalogram (EEG) is modified by ...      True   \n",
       "1425  11204035  Electroencephalogram (EEG) recordings during r...      True   \n",
       "1426  10896191  We present an overview of our research into br...     False   \n",
       "1427  10478710  EEG feedback studies demonstrate that human su...      True   \n",
       "1428   9749909  Electroencephalogram (EEG) recordings during r...     False   \n",
       "\n",
       "            percentage  \n",
       "0                   []  \n",
       "1                   []  \n",
       "2             [0.9952]  \n",
       "3     [0.7181, 0.8314]  \n",
       "4                   []  \n",
       "...                ...  \n",
       "1424                []  \n",
       "1425            [0.14]  \n",
       "1426                []  \n",
       "1427            [0.85]  \n",
       "1428           [0.328]  \n",
       "\n",
       "[1429 rows x 4 columns]"
      ]
     },
     "execution_count": 409,
     "metadata": {},
     "output_type": "execute_result"
    }
   ],
   "source": [
    "def retrieve_acc1(text):\n",
    "    text = text.replace('\\u2009', '').replace('\\u202f', '').replace('\\u200a', '') # deleting unicodes\n",
    "                                                                                  # invoking response 500 \n",
    "    data = client.process_text(text) \n",
    "    quants = []\n",
    "    if data[0] != 200:\n",
    "        print(\"response \", data[0])\n",
    "        return None\n",
    "    if 'measurements' not in data[1].keys():\n",
    "        return []\n",
    "    \n",
    "    for meas in data[1]['measurements']:\n",
    "        if (\n",
    "        meas['type'] == 'value'\n",
    "        and 'normalizedUnit' in meas['quantity'].keys()\n",
    "        and meas['quantity']['normalizedUnit'] == {'name': 'one'}\n",
    "        ):\n",
    "            quant = meas['quantity']['normalizedQuantity']\n",
    "            if quant >= 0 and quant <= 1: quants.append(quant)\n",
    "    return quants\n",
    "\n",
    "df = df_orig\n",
    "df['word accuracy'] = ['accurac' in df.loc[i, 'abstract'] for i in range(len(df))]\n",
    "df['accuracy'] = [retrieve_acc1(df['abstract'][i]) for i in range(len(df))]\n",
    "df"
   ]
  },
  {
   "cell_type": "code",
   "execution_count": 410,
   "metadata": {
    "scrolled": false
   },
   "outputs": [
    {
     "name": "stderr",
     "output_type": "stream",
     "text": [
      "/tmp/ipykernel_10131/3011367755.py:2: UserWarning: Boolean Series key will be reindexed to match DataFrame index.\n",
      "  for quants in df[df['accuracy'] == True][df['percentage'].str.len() != 0]['percentage']:\n"
     ]
    },
    {
     "data": {
      "image/png": "[encoded data removed]",
      "text/plain": [
       "<Figure size 720x360 with 1 Axes>"
      ]
     },
     "metadata": {
      "needs_background": "light"
     },
     "output_type": "display_data"
    }
   ],
   "source": [
    "occurences = []\n",
    "for quants in df[df['word accuracy'] == True][df['accuracy'].str.len() != 0]['accuracy']:\n",
    "    occurences += quants\n",
    "\n",
    "plt.figure(figsize=(10,5))\n",
    "plt.hist(occurences, 25)\n",
    "plt.xlabel('percentage of accuracy')\n",
    "plt.ylabel('occurences')\n",
    "plt.show()"
   ]
  },
  {
   "cell_type": "markdown",
   "metadata": {},
   "source": [
    "The resulted occurences probably represent the real ones considering the rigidity of implemented approach. On the other side, this rigidity leads to non-zero amount of false-positive and false-negative occurences, which we'll try to overcome using the following **advanced filtering**: counting a number in if there is \"accurac\" word near: -100 offset before the number and +30 offset after. Let's take as the property of an english sentence construction that if \"accuracy\" apears before it might be very far away from the number, but if after - it usually stands nearby. "
   ]
  },
  {
   "cell_type": "code",
   "execution_count": 451,
   "metadata": {},
   "outputs": [
    {
     "data": {
      "text/html": [
       "<div>\n",
       "<style scoped>\n",
       "    .dataframe tbody tr th:only-of-type {\n",
       "        vertical-align: middle;\n",
       "    }\n",
       "\n",
       "    .dataframe tbody tr th {\n",
       "        vertical-align: top;\n",
       "    }\n",
       "\n",
       "    .dataframe thead th {\n",
       "        text-align: right;\n",
       "    }\n",
       "</style>\n",
       "<table border=\"1\" class=\"dataframe\">\n",
       "  <thead>\n",
       "    <tr style=\"text-align: right;\">\n",
       "      <th></th>\n",
       "      <th>PMID</th>\n",
       "      <th>abstract</th>\n",
       "      <th>accuracy</th>\n",
       "      <th>percentage</th>\n",
       "    </tr>\n",
       "  </thead>\n",
       "  <tbody>\n",
       "    <tr>\n",
       "      <th>0</th>\n",
       "      <td>35103873</td>\n",
       "      <td>It has been a challenge for solving the motor ...</td>\n",
       "      <td>[]</td>\n",
       "      <td>[]</td>\n",
       "    </tr>\n",
       "    <tr>\n",
       "      <th>1</th>\n",
       "      <td>35095410</td>\n",
       "      <td>The development of reliable assistive devices ...</td>\n",
       "      <td>[]</td>\n",
       "      <td>[]</td>\n",
       "    </tr>\n",
       "    <tr>\n",
       "      <th>2</th>\n",
       "      <td>35093844</td>\n",
       "      <td>Identifying motor and mental imagery electroen...</td>\n",
       "      <td>[0.9952]</td>\n",
       "      <td>[0.9952]</td>\n",
       "    </tr>\n",
       "    <tr>\n",
       "      <th>3</th>\n",
       "      <td>35090904</td>\n",
       "      <td>Brain computer interface (BCI) utilizes brain ...</td>\n",
       "      <td>[0.7181, 0.8314]</td>\n",
       "      <td>[0.7181, 0.8314]</td>\n",
       "    </tr>\n",
       "    <tr>\n",
       "      <th>4</th>\n",
       "      <td>35088740</td>\n",
       "      <td>Brain-computer interface (BCI)-controlled func...</td>\n",
       "      <td>[]</td>\n",
       "      <td>[]</td>\n",
       "    </tr>\n",
       "    <tr>\n",
       "      <th>...</th>\n",
       "      <td>...</td>\n",
       "      <td>...</td>\n",
       "      <td>...</td>\n",
       "      <td>...</td>\n",
       "    </tr>\n",
       "    <tr>\n",
       "      <th>1424</th>\n",
       "      <td>11482363</td>\n",
       "      <td>The electroencephalogram (EEG) is modified by ...</td>\n",
       "      <td>[]</td>\n",
       "      <td>[]</td>\n",
       "    </tr>\n",
       "    <tr>\n",
       "      <th>1425</th>\n",
       "      <td>11204035</td>\n",
       "      <td>Electroencephalogram (EEG) recordings during r...</td>\n",
       "      <td>[]</td>\n",
       "      <td>[0.14]</td>\n",
       "    </tr>\n",
       "    <tr>\n",
       "      <th>1426</th>\n",
       "      <td>10896191</td>\n",
       "      <td>We present an overview of our research into br...</td>\n",
       "      <td>[]</td>\n",
       "      <td>[]</td>\n",
       "    </tr>\n",
       "    <tr>\n",
       "      <th>1427</th>\n",
       "      <td>10478710</td>\n",
       "      <td>EEG feedback studies demonstrate that human su...</td>\n",
       "      <td>[]</td>\n",
       "      <td>[0.85]</td>\n",
       "    </tr>\n",
       "    <tr>\n",
       "      <th>1428</th>\n",
       "      <td>9749909</td>\n",
       "      <td>Electroencephalogram (EEG) recordings during r...</td>\n",
       "      <td>[]</td>\n",
       "      <td>[0.328]</td>\n",
       "    </tr>\n",
       "  </tbody>\n",
       "</table>\n",
       "<p>1429 rows × 4 columns</p>\n",
       "</div>"
      ],
      "text/plain": [
       "          PMID                                           abstract  \\\n",
       "0     35103873  It has been a challenge for solving the motor ...   \n",
       "1     35095410  The development of reliable assistive devices ...   \n",
       "2     35093844  Identifying motor and mental imagery electroen...   \n",
       "3     35090904  Brain computer interface (BCI) utilizes brain ...   \n",
       "4     35088740  Brain-computer interface (BCI)-controlled func...   \n",
       "...        ...                                                ...   \n",
       "1424  11482363  The electroencephalogram (EEG) is modified by ...   \n",
       "1425  11204035  Electroencephalogram (EEG) recordings during r...   \n",
       "1426  10896191  We present an overview of our research into br...   \n",
       "1427  10478710  EEG feedback studies demonstrate that human su...   \n",
       "1428   9749909  Electroencephalogram (EEG) recordings during r...   \n",
       "\n",
       "              accuracy        percentage  \n",
       "0                   []                []  \n",
       "1                   []                []  \n",
       "2             [0.9952]          [0.9952]  \n",
       "3     [0.7181, 0.8314]  [0.7181, 0.8314]  \n",
       "4                   []                []  \n",
       "...                ...               ...  \n",
       "1424                []                []  \n",
       "1425                []            [0.14]  \n",
       "1426                []                []  \n",
       "1427                []            [0.85]  \n",
       "1428                []           [0.328]  \n",
       "\n",
       "[1429 rows x 4 columns]"
      ]
     },
     "execution_count": 451,
     "metadata": {},
     "output_type": "execute_result"
    }
   ],
   "source": [
    "def retrieve_acc2(text):\n",
    "    text = text.replace('\\u2009', '').replace('\\u202f', '').replace('\\u200a', '') # deleting unicodes\n",
    "                                                                                  # invoking response 500 \n",
    "    data = client.process_text(text) \n",
    "    quants = []\n",
    "    if data[0] != 200:\n",
    "        print(\"response \", data[0])\n",
    "        return None\n",
    "    if 'measurements' not in data[1].keys():\n",
    "        return []\n",
    "    \n",
    "    for meas in data[1]['measurements']:\n",
    "        if (\n",
    "        meas['type'] == 'value'\n",
    "        and 'normalizedUnit' in meas['quantity'].keys()\n",
    "        and meas['quantity']['normalizedUnit'] == {'name': 'one'}\n",
    "        ):\n",
    "            quant = meas['quantity']['normalizedQuantity']\n",
    "            meas_pos = meas['quantity']['offsetStart']\n",
    "            offset = 'accurac' in text[meas_pos-100 : meas_pos+30]\n",
    "            if quant > 0 and quant < 1 and offset: quants.append(quant)\n",
    "                \n",
    "    return quants\n",
    "\n",
    "df2 = df_orig\n",
    "df2['accuracy'] = [retrieve_acc2(df2['abstract'][i]) for i in range(len(df2))]\n",
    "df2"
   ]
  },
  {
   "cell_type": "code",
   "execution_count": 452,
   "metadata": {},
   "outputs": [
    {
     "data": {
      "image/png": "[encoded data removed]",
      "text/plain": [
       "<Figure size 720x360 with 1 Axes>"
      ]
     },
     "metadata": {
      "needs_background": "light"
     },
     "output_type": "display_data"
    }
   ],
   "source": [
    "occurences = []\n",
    "for quants in df2['accuracy']:\n",
    "    occurences += quants\n",
    "\n",
    "plt.figure(figsize=(10,5))\n",
    "plt.hist(occurences, 25)\n",
    "plt.xlabel('percentage of accuracy')\n",
    "plt.ylabel('occurences')\n",
    "plt.show()"
   ]
  },
  {
   "cell_type": "markdown",
   "metadata": {},
   "source": [
    "The overall number of occurences is smaller than in the first approach, however the profile of histograms are pretty similar.  "
   ]
  }
 ],
 "metadata": {
  "colab": {
   "authorship_tag": "ABX9TyO7lQgACEio57ARV6Xw1/92",
   "collapsed_sections": [],
   "mount_file_id": "1HrK75kYBr7kzO7IR0uZDawnmec5JX1iv",
   "name": "JB_SHK2.ipynb",
   "provenance": []
  },
  "kernelspec": {
   "display_name": "Python 3 (ipykernel)",
   "language": "python",
   "name": "python3"
  },
  "language_info": {
   "codemirror_mode": {
    "name": "ipython",
    "version": 3
   },
   "file_extension": ".py",
   "mimetype": "text/x-python",
   "name": "python",
   "nbconvert_exporter": "python",
   "pygments_lexer": "ipython3",
   "version": "3.8.10"
  }
 },
 "nbformat": 4,
 "nbformat_minor": 1
}
